{
 "cells": [
  {
   "cell_type": "code",
   "execution_count": 6,
   "metadata": {},
   "outputs": [
    {
     "data": {
      "text/plain": [
       "'/Users/alisonandrade/Documents/alison18/scs_bc/assignment_3/pypoll'"
      ]
     },
     "execution_count": 6,
     "metadata": {},
     "output_type": "execute_result"
    }
   ],
   "source": [
    "#imports\n",
    "import os \n",
    "import csv\n",
    "import numpy as np\n",
    "\n",
    "os.getcwd()\n"
   ]
  },
  {
   "cell_type": "code",
   "execution_count": 7,
   "metadata": {},
   "outputs": [
    {
     "name": "stdout",
     "output_type": "stream",
     "text": [
      "\n",
      " Election Results \n",
      " ----------------- \n",
      "\n",
      "Total votes: 369711 \n",
      " ----------------- \n",
      "\n"
     ]
    }
   ],
   "source": [
    "\n",
    "filepath = 'Resources/election_data.csv'\n",
    "\n",
    "ballot_id = []\n",
    "county = []\n",
    "candidates = []\n",
    "\n",
    "#determine the total number of votes by the length of the columns\n",
    "#find candidates by looking at unique entries of the list\n",
    "with open(filepath, encoding = 'UTF-8') as csvfile:\n",
    "    csvreader = csv.reader(csvfile, delimiter = ',')\n",
    "    header = next(csvreader)\n",
    "    for row in csvreader:\n",
    "        ballot_id.append(row[0])\n",
    "        county.append(row[1])\n",
    "        candidates.append(row[2])\n",
    "print(\"\\n Election Results \\n ----------------- \\n\")\n",
    "print(f\"Total votes: {len(ballot_id)} \\n ----------------- \\n\")\n"
   ]
  },
  {
   "cell_type": "code",
   "execution_count": 11,
   "metadata": {},
   "outputs": [
    {
     "name": "stdout",
     "output_type": "stream",
     "text": [
      "Charles Casper Stockham: 23.049% (85213.0) \n",
      "\n",
      "Diana DeGette: 73.812% (272892.0) \n",
      "\n",
      "Raymon Anthony Doane: 3.1392% (11606.0) \n",
      "\n",
      "---------------------\n",
      "Winner: Diana DeGette\n"
     ]
    }
   ],
   "source": [
    "\n",
    "uniq_candidates = np.unique(candidates)\n",
    "candidate_votes = np.zeros(len(uniq_candidates))\n",
    "\n",
    "for cand_i in range(len(uniq_candidates)):\n",
    "    for name in candidates:\n",
    "        if name == uniq_candidates[cand_i]:\n",
    "            candidate_votes[cand_i] += 1\n",
    "    print(f\"{uniq_candidates[cand_i]}: {(candidate_votes[cand_i]/len(ballot_id)*100):.5}% ({candidate_votes[cand_i]}) \\n\")\n",
    "\n",
    "print(\"---------------------\")\n",
    "print(f\"Winner: {uniq_candidates[candidate_votes.argmax()]}\")\n",
    "\n"
   ]
  },
  {
   "cell_type": "code",
   "execution_count": 13,
   "metadata": {},
   "outputs": [],
   "source": [
    "with open ('analysis.txt', 'w') as file:\n",
    "    file.write(\"\\n Election Results \\n ----------------- \\n\")\n",
    "    file.write(f\"Total votes: {len(ballot_id)} \\n ----------------- \\n\")\n",
    "\n",
    "\n",
    "    uniq_candidates = np.unique(candidates)\n",
    "    candidate_votes = np.zeros(len(uniq_candidates))\n",
    "\n",
    "    for cand_i in range(len(uniq_candidates)):\n",
    "        for name in candidates:\n",
    "            if name == uniq_candidates[cand_i]:\n",
    "                candidate_votes[cand_i] += 1\n",
    "        file.write(f\"{uniq_candidates[cand_i]}: {(candidate_votes[cand_i]/len(ballot_id)*100):.5}% ({candidate_votes[cand_i]}) \\n\")\n",
    "    \n",
    "\n",
    "    file.write(\"---------------------\\n\")\n",
    "    file.write(f\"Winner: {uniq_candidates[candidate_votes.argmax()]}\")"
   ]
  },
  {
   "cell_type": "code",
   "execution_count": null,
   "metadata": {},
   "outputs": [],
   "source": []
  }
 ],
 "metadata": {
  "kernelspec": {
   "display_name": "base",
   "language": "python",
   "name": "python3"
  },
  "language_info": {
   "codemirror_mode": {
    "name": "ipython",
    "version": 3
   },
   "file_extension": ".py",
   "mimetype": "text/x-python",
   "name": "python",
   "nbconvert_exporter": "python",
   "pygments_lexer": "ipython3",
   "version": "3.11.5"
  }
 },
 "nbformat": 4,
 "nbformat_minor": 2
}
