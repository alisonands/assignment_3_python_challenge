{
 "cells": [
  {
   "cell_type": "code",
   "execution_count": 16,
   "metadata": {},
   "outputs": [
    {
     "name": "stdout",
     "output_type": "stream",
     "text": [
      "The total number of months in the dataset is 86\n",
      "The net total profits are $22564198\n"
     ]
    }
   ],
   "source": [
    "#imports\n",
    "import os\n",
    "import csv\n",
    "import numpy as np\n",
    "\n",
    "csvpath = '/Users/alisonandrade/Documents/alison18/scs_bc/assignment_3/pybank/Resources/budget_data.csv'\n",
    "csvpath = 'Resources/budget_data.csv' #why does this not work\n",
    "\n",
    "dates = []\n",
    "pnls = []\n",
    "\n",
    "#reading files, appending to dates to find total number of months\n",
    "with open(csvpath, encoding = 'UTF-8') as csvfile:\n",
    "    csvreader = csv.reader(csvfile, delimiter = ',')\n",
    "    header = next(csvreader) #skipheader\n",
    "    for row in csvreader:\n",
    "        dates.append(row[0])\n",
    "        pnls.append(int(row[1]))\n",
    "\n",
    "print(f\"The total number of months in the dataset is {len(dates)}\")\n",
    "\n",
    "#printing net profits/losses\n",
    "if sum(pnls)>=0:\n",
    "    print (f\"The net total profits are ${sum(pnls)}\")"
   ]
  },
  {
   "cell_type": "code",
   "execution_count": 17,
   "metadata": {},
   "outputs": [
    {
     "name": "stdout",
     "output_type": "stream",
     "text": [
      "/Users/alisonandrade/Documents/alison18/scs_bc/assignment_3/pybank\n"
     ]
    }
   ],
   "source": [
    "import os\n",
    "print(os.getcwd())"
   ]
  },
  {
   "cell_type": "code",
   "execution_count": 18,
   "metadata": {},
   "outputs": [
    {
     "name": "stdout",
     "output_type": "stream",
     "text": [
      "The average of all these differences is -8311.105882352942 \n",
      "\n",
      "The greatest increase occurred at 79 when the value increased from -910775 to 951227 \n",
      " where the difference was 1862002\n",
      "This is an increase of 207.2942562185427%!\n",
      "This occurred during the month Aug-16 \n",
      "\n",
      "The greatest decrease occurred at 49 when the value decreased from 878810 to -946748 \n",
      " where the difference was -1825558\n",
      "This is an decrease of -536.4003114578284%!\n",
      "This occurred during the month Feb-14\n"
     ]
    }
   ],
   "source": [
    "differences = []\n",
    "max = 0\n",
    "min = 0\n",
    "\n",
    "for i in range(len(pnls)):\n",
    "    difference = pnls[i+1] - pnls[i]\n",
    "    differences.append(difference)\n",
    "    if difference > max:\n",
    "        max = difference\n",
    "        max_i = i+1\n",
    "    if difference < min:\n",
    "        min = difference\n",
    "        min_i = i+1\n",
    "    if i == (len(pnls)-2):\n",
    "        break\n",
    "print(f'The average of all these differences is {np.mean(differences)} \\n')\n",
    "\n",
    "print(f\"The greatest increase occurred at {max_i} when the value increased from {pnls[max_i-1]} to {pnls[max_i]} \\n where the difference was {max}\")\n",
    "print(f\"This is an increase of {(max/pnls[max_i+1])*100}%!\")\n",
    "print(f\"This occurred during the month {dates[max_i]} \\n\")\n",
    "\n",
    "print(f\"The greatest decrease occurred at {min_i} when the value decreased from {pnls[min_i-1]} to {pnls[min_i]} \\n where the difference was {min}\")\n",
    "print(f\"This is an decrease of {(min/pnls[min_i+1])*100}%!\")\n",
    "print(f\"This occurred during the month {dates[min_i]}\")\n"
   ]
  },
  {
   "cell_type": "code",
   "execution_count": 19,
   "metadata": {},
   "outputs": [],
   "source": [
    "with open('main.txt', 'w') as file:\n",
    "    file.write(f'The average of all these differences is {np.mean(differences)} \\n \\n')\n",
    "    file.write(f\"The greatest increase occurred at {max_i} when the value increased from {pnls[max_i-1]} to {pnls[max_i]} \\n where the difference was {max}\\n\")\n",
    "    file.write(f\"This is an increase of {int((max/pnls[max_i+1])*100)}%! \\n\")\n",
    "    file.write(f\"This occurred during the month {dates[max_i]} \\n \\n\")\n",
    "\n",
    "    file.write(f\"The greatest decrease occurred at {min_i} when the value decreased from {pnls[min_i-1]} to {pnls[min_i]} \\n where the difference was {min}\")\n",
    "    file.write(f\"This is an decrease of {int((min/pnls[min_i+1])*100)}%! \\n\")\n",
    "    file.write(f\"This occurred during the month {dates[min_i]} \\n\")"
   ]
  },
  {
   "cell_type": "code",
   "execution_count": null,
   "metadata": {},
   "outputs": [],
   "source": [
    "test edit"
   ]
  }
 ],
 "metadata": {
  "kernelspec": {
   "display_name": "base",
   "language": "python",
   "name": "python3"
  },
  "language_info": {
   "codemirror_mode": {
    "name": "ipython",
    "version": 3
   },
   "file_extension": ".py",
   "mimetype": "text/x-python",
   "name": "python",
   "nbconvert_exporter": "python",
   "pygments_lexer": "ipython3",
   "version": "3.11.5"
  }
 },
 "nbformat": 4,
 "nbformat_minor": 2
}
